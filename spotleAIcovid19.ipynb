{
 "cells": [
  {
   "cell_type": "code",
   "execution_count": 623,
   "metadata": {},
   "outputs": [],
   "source": [
    "import pandas as pd\n",
    "import numpy as np\n",
    "import matplotlib.pyplot as plt\n",
    "import seaborn as sns\n",
    "from sklearn.model_selection import train_test_split\n",
    "from sklearn.metrics import classification_report,accuracy_score"
   ]
  },
  {
   "cell_type": "code",
   "execution_count": 624,
   "metadata": {},
   "outputs": [],
   "source": [
    "#import dataset\n",
    "data = pd.read_csv('patients_data.csv')"
   ]
  },
  {
   "cell_type": "code",
   "execution_count": 625,
   "metadata": {},
   "outputs": [
    {
     "data": {
      "text/plain": [
       "(27890, 21)"
      ]
     },
     "execution_count": 625,
     "metadata": {},
     "output_type": "execute_result"
    }
   ],
   "source": [
    "data.shape"
   ]
  },
  {
   "cell_type": "code",
   "execution_count": 626,
   "metadata": {},
   "outputs": [],
   "source": [
    "# data.columns"
   ]
  },
  {
   "cell_type": "code",
   "execution_count": 627,
   "metadata": {},
   "outputs": [
    {
     "data": {
      "text/html": [
       "<div>\n",
       "<style scoped>\n",
       "    .dataframe tbody tr th:only-of-type {\n",
       "        vertical-align: middle;\n",
       "    }\n",
       "\n",
       "    .dataframe tbody tr th {\n",
       "        vertical-align: top;\n",
       "    }\n",
       "\n",
       "    .dataframe thead th {\n",
       "        text-align: right;\n",
       "    }\n",
       "</style>\n",
       "<table border=\"1\" class=\"dataframe\">\n",
       "  <thead>\n",
       "    <tr style=\"text-align: right;\">\n",
       "      <th></th>\n",
       "      <th>patient_number</th>\n",
       "      <th>p_id</th>\n",
       "      <th>state_patient_number</th>\n",
       "      <th>date_announced</th>\n",
       "      <th>age_bracket</th>\n",
       "      <th>gender</th>\n",
       "      <th>detected_city</th>\n",
       "      <th>detected_district</th>\n",
       "      <th>detected_state</th>\n",
       "      <th>state_code</th>\n",
       "      <th>...</th>\n",
       "      <th>type_of_transmission</th>\n",
       "      <th>contracted_from_which_patient_suspected</th>\n",
       "      <th>status_change_date</th>\n",
       "      <th>current_status</th>\n",
       "      <th>estimated_onset_date</th>\n",
       "      <th>source1</th>\n",
       "      <th>source2</th>\n",
       "      <th>source3</th>\n",
       "      <th>notes</th>\n",
       "      <th>backup_notes</th>\n",
       "    </tr>\n",
       "  </thead>\n",
       "  <tbody>\n",
       "    <tr>\n",
       "      <th>0</th>\n",
       "      <td>1</td>\n",
       "      <td>P1</td>\n",
       "      <td>KL-TS-P1</td>\n",
       "      <td>30/01/2020</td>\n",
       "      <td>20</td>\n",
       "      <td>F</td>\n",
       "      <td>Thrissur</td>\n",
       "      <td>Thrissur</td>\n",
       "      <td>Kerala</td>\n",
       "      <td>KL</td>\n",
       "      <td>...</td>\n",
       "      <td>Imported</td>\n",
       "      <td>NaN</td>\n",
       "      <td>14/02/2020</td>\n",
       "      <td>Recovered</td>\n",
       "      <td>NaN</td>\n",
       "      <td>https://twitter.com/vijayanpinarayi/status/122...</td>\n",
       "      <td>https://weather.com/en-IN/india/news/news/2020...</td>\n",
       "      <td>NaN</td>\n",
       "      <td>Travelled from Wuhan</td>\n",
       "      <td>Student from Wuhan</td>\n",
       "    </tr>\n",
       "    <tr>\n",
       "      <th>1</th>\n",
       "      <td>2</td>\n",
       "      <td>P2</td>\n",
       "      <td>KL-AL-P1</td>\n",
       "      <td>02/02/2020</td>\n",
       "      <td>NaN</td>\n",
       "      <td>NaN</td>\n",
       "      <td>Alappuzha</td>\n",
       "      <td>Alappuzha</td>\n",
       "      <td>Kerala</td>\n",
       "      <td>KL</td>\n",
       "      <td>...</td>\n",
       "      <td>Imported</td>\n",
       "      <td>NaN</td>\n",
       "      <td>14/02/2020</td>\n",
       "      <td>Recovered</td>\n",
       "      <td>NaN</td>\n",
       "      <td>https://www.indiatoday.in/india/story/kerala-r...</td>\n",
       "      <td>https://weather.com/en-IN/india/news/news/2020...</td>\n",
       "      <td>NaN</td>\n",
       "      <td>Travelled from Wuhan</td>\n",
       "      <td>Student from Wuhan</td>\n",
       "    </tr>\n",
       "    <tr>\n",
       "      <th>2</th>\n",
       "      <td>3</td>\n",
       "      <td>P3</td>\n",
       "      <td>KL-KS-P1</td>\n",
       "      <td>03/02/2020</td>\n",
       "      <td>NaN</td>\n",
       "      <td>NaN</td>\n",
       "      <td>Kasaragod</td>\n",
       "      <td>Kasaragod</td>\n",
       "      <td>Kerala</td>\n",
       "      <td>KL</td>\n",
       "      <td>...</td>\n",
       "      <td>Imported</td>\n",
       "      <td>NaN</td>\n",
       "      <td>14/02/2020</td>\n",
       "      <td>Recovered</td>\n",
       "      <td>NaN</td>\n",
       "      <td>https://www.indiatoday.in/india/story/kerala-n...</td>\n",
       "      <td>https://twitter.com/ANI/status/122422148580539...</td>\n",
       "      <td>https://weather.com/en-IN/india/news/news/2020...</td>\n",
       "      <td>Travelled from Wuhan</td>\n",
       "      <td>Student from Wuhan</td>\n",
       "    </tr>\n",
       "    <tr>\n",
       "      <th>3</th>\n",
       "      <td>4</td>\n",
       "      <td>P4</td>\n",
       "      <td>DL-P1</td>\n",
       "      <td>02/03/2020</td>\n",
       "      <td>45</td>\n",
       "      <td>M</td>\n",
       "      <td>East Delhi (Mayur Vihar)</td>\n",
       "      <td>East Delhi</td>\n",
       "      <td>Delhi</td>\n",
       "      <td>DL</td>\n",
       "      <td>...</td>\n",
       "      <td>Imported</td>\n",
       "      <td>NaN</td>\n",
       "      <td>15/03/2020</td>\n",
       "      <td>Recovered</td>\n",
       "      <td>NaN</td>\n",
       "      <td>https://www.indiatoday.in/india/story/not-a-ja...</td>\n",
       "      <td>https://economictimes.indiatimes.com/news/poli...</td>\n",
       "      <td>NaN</td>\n",
       "      <td>Travelled from Austria, Italy</td>\n",
       "      <td>Travel history to Italy and Austria</td>\n",
       "    </tr>\n",
       "    <tr>\n",
       "      <th>4</th>\n",
       "      <td>5</td>\n",
       "      <td>P5</td>\n",
       "      <td>TS-P1</td>\n",
       "      <td>02/03/2020</td>\n",
       "      <td>24</td>\n",
       "      <td>M</td>\n",
       "      <td>Hyderabad</td>\n",
       "      <td>Hyderabad</td>\n",
       "      <td>Telangana</td>\n",
       "      <td>TG</td>\n",
       "      <td>...</td>\n",
       "      <td>Imported</td>\n",
       "      <td>NaN</td>\n",
       "      <td>02/03/2020</td>\n",
       "      <td>Recovered</td>\n",
       "      <td>NaN</td>\n",
       "      <td>https://www.deccanherald.com/national/south/qu...</td>\n",
       "      <td>https://www.indiatoday.in/india/story/coronavi...</td>\n",
       "      <td>https://www.thehindu.com/news/national/coronav...</td>\n",
       "      <td>Travelled from Dubai to Bangalore on 20th Feb,...</td>\n",
       "      <td>Travel history to Dubai, Singapore contact</td>\n",
       "    </tr>\n",
       "  </tbody>\n",
       "</table>\n",
       "<p>5 rows × 21 columns</p>\n",
       "</div>"
      ],
      "text/plain": [
       "   patient_number p_id state_patient_number date_announced age_bracket gender  \\\n",
       "0               1   P1             KL-TS-P1     30/01/2020          20      F   \n",
       "1               2   P2             KL-AL-P1     02/02/2020         NaN    NaN   \n",
       "2               3   P3             KL-KS-P1     03/02/2020         NaN    NaN   \n",
       "3               4   P4                DL-P1     02/03/2020          45      M   \n",
       "4               5   P5                TS-P1     02/03/2020          24      M   \n",
       "\n",
       "              detected_city detected_district detected_state state_code  ...  \\\n",
       "0                  Thrissur          Thrissur         Kerala         KL  ...   \n",
       "1                 Alappuzha         Alappuzha         Kerala         KL  ...   \n",
       "2                 Kasaragod         Kasaragod         Kerala         KL  ...   \n",
       "3  East Delhi (Mayur Vihar)        East Delhi          Delhi         DL  ...   \n",
       "4                 Hyderabad         Hyderabad      Telangana         TG  ...   \n",
       "\n",
       "  type_of_transmission contracted_from_which_patient_suspected  \\\n",
       "0             Imported                                     NaN   \n",
       "1             Imported                                     NaN   \n",
       "2             Imported                                     NaN   \n",
       "3             Imported                                     NaN   \n",
       "4             Imported                                     NaN   \n",
       "\n",
       "  status_change_date current_status estimated_onset_date  \\\n",
       "0         14/02/2020      Recovered                  NaN   \n",
       "1         14/02/2020      Recovered                  NaN   \n",
       "2         14/02/2020      Recovered                  NaN   \n",
       "3         15/03/2020      Recovered                  NaN   \n",
       "4         02/03/2020      Recovered                  NaN   \n",
       "\n",
       "                                             source1  \\\n",
       "0  https://twitter.com/vijayanpinarayi/status/122...   \n",
       "1  https://www.indiatoday.in/india/story/kerala-r...   \n",
       "2  https://www.indiatoday.in/india/story/kerala-n...   \n",
       "3  https://www.indiatoday.in/india/story/not-a-ja...   \n",
       "4  https://www.deccanherald.com/national/south/qu...   \n",
       "\n",
       "                                             source2  \\\n",
       "0  https://weather.com/en-IN/india/news/news/2020...   \n",
       "1  https://weather.com/en-IN/india/news/news/2020...   \n",
       "2  https://twitter.com/ANI/status/122422148580539...   \n",
       "3  https://economictimes.indiatimes.com/news/poli...   \n",
       "4  https://www.indiatoday.in/india/story/coronavi...   \n",
       "\n",
       "                                             source3  \\\n",
       "0                                                NaN   \n",
       "1                                                NaN   \n",
       "2  https://weather.com/en-IN/india/news/news/2020...   \n",
       "3                                                NaN   \n",
       "4  https://www.thehindu.com/news/national/coronav...   \n",
       "\n",
       "                                               notes  \\\n",
       "0                               Travelled from Wuhan   \n",
       "1                               Travelled from Wuhan   \n",
       "2                               Travelled from Wuhan   \n",
       "3                      Travelled from Austria, Italy   \n",
       "4  Travelled from Dubai to Bangalore on 20th Feb,...   \n",
       "\n",
       "                                 backup_notes  \n",
       "0                          Student from Wuhan  \n",
       "1                          Student from Wuhan  \n",
       "2                          Student from Wuhan  \n",
       "3         Travel history to Italy and Austria  \n",
       "4  Travel history to Dubai, Singapore contact  \n",
       "\n",
       "[5 rows x 21 columns]"
      ]
     },
     "execution_count": 627,
     "metadata": {},
     "output_type": "execute_result"
    }
   ],
   "source": [
    "data.head()"
   ]
  },
  {
   "cell_type": "code",
   "execution_count": 628,
   "metadata": {},
   "outputs": [],
   "source": [
    "#making another copy\n",
    "df = data"
   ]
  },
  {
   "cell_type": "code",
   "execution_count": 629,
   "metadata": {},
   "outputs": [
    {
     "name": "stdout",
     "output_type": "stream",
     "text": [
      "<class 'pandas.core.frame.DataFrame'>\n",
      "RangeIndex: 27890 entries, 0 to 27889\n",
      "Data columns (total 21 columns):\n",
      " #   Column                                   Non-Null Count  Dtype  \n",
      "---  ------                                   --------------  -----  \n",
      " 0   patient_number                           27890 non-null  int64  \n",
      " 1   p_id                                     27890 non-null  object \n",
      " 2   state_patient_number                     2997 non-null   object \n",
      " 3   date_announced                           27890 non-null  object \n",
      " 4   age_bracket                              2346 non-null   object \n",
      " 5   gender                                   5313 non-null   object \n",
      " 6   detected_city                            2347 non-null   object \n",
      " 7   detected_district                        20251 non-null  object \n",
      " 8   detected_state                           27890 non-null  object \n",
      " 9   state_code                               27890 non-null  object \n",
      " 10  nationality                              2707 non-null   object \n",
      " 11  type_of_transmission                     2990 non-null   object \n",
      " 12  contracted_from_which_patient_suspected  1563 non-null   object \n",
      " 13  status_change_date                       27780 non-null  object \n",
      " 14  current_status                           27890 non-null  object \n",
      " 15  estimated_onset_date                     0 non-null      float64\n",
      " 16  source1                                  27506 non-null  object \n",
      " 17  source2                                  3873 non-null   object \n",
      " 18  source3                                  452 non-null    object \n",
      " 19  notes                                    26555 non-null  object \n",
      " 20  backup_notes                             361 non-null    object \n",
      "dtypes: float64(1), int64(1), object(19)\n",
      "memory usage: 4.5+ MB\n"
     ]
    }
   ],
   "source": [
    "df.info()"
   ]
  },
  {
   "cell_type": "code",
   "execution_count": 630,
   "metadata": {},
   "outputs": [
    {
     "data": {
      "text/plain": [
       "patient_number                                 0\n",
       "p_id                                           0\n",
       "state_patient_number                       24893\n",
       "date_announced                                 0\n",
       "age_bracket                                25544\n",
       "gender                                     22577\n",
       "detected_city                              25543\n",
       "detected_district                           7639\n",
       "detected_state                                 0\n",
       "state_code                                     0\n",
       "nationality                                25183\n",
       "type_of_transmission                       24900\n",
       "contracted_from_which_patient_suspected    26327\n",
       "status_change_date                           110\n",
       "current_status                                 0\n",
       "estimated_onset_date                       27890\n",
       "source1                                      384\n",
       "source2                                    24017\n",
       "source3                                    27438\n",
       "notes                                       1335\n",
       "backup_notes                               27529\n",
       "dtype: int64"
      ]
     },
     "execution_count": 630,
     "metadata": {},
     "output_type": "execute_result"
    }
   ],
   "source": [
    "df.isna().sum()"
   ]
  },
  {
   "cell_type": "code",
   "execution_count": 631,
   "metadata": {},
   "outputs": [],
   "source": [
    "#dropping trivial columns\n",
    "df = df.drop([\"p_id\",\"patient_number\",\"state_patient_number\",\"detected_state\",\"source1\",\"source2\",\n",
    "              \"source3\",\"notes\",\"backup_notes\"], axis = 1)"
   ]
  },
  {
   "cell_type": "code",
   "execution_count": 632,
   "metadata": {},
   "outputs": [
    {
     "data": {
      "text/plain": [
       "(27890, 12)"
      ]
     },
     "execution_count": 632,
     "metadata": {},
     "output_type": "execute_result"
    }
   ],
   "source": [
    "df.shape"
   ]
  },
  {
   "cell_type": "code",
   "execution_count": 633,
   "metadata": {},
   "outputs": [],
   "source": [
    "index = df.isna().sum().index.tolist()"
   ]
  },
  {
   "cell_type": "code",
   "execution_count": 634,
   "metadata": {},
   "outputs": [],
   "source": [
    "missing_data_info = pd.DataFrame(df.isna().sum(),columns=['No. of Missing Values'],index=index)"
   ]
  },
  {
   "cell_type": "code",
   "execution_count": 635,
   "metadata": {},
   "outputs": [],
   "source": [
    "missing_data_info['Percentage'] = missing_data_info['No. of Missing Values']/df.shape[0]*100"
   ]
  },
  {
   "cell_type": "code",
   "execution_count": 636,
   "metadata": {},
   "outputs": [
    {
     "data": {
      "text/html": [
       "<div>\n",
       "<style scoped>\n",
       "    .dataframe tbody tr th:only-of-type {\n",
       "        vertical-align: middle;\n",
       "    }\n",
       "\n",
       "    .dataframe tbody tr th {\n",
       "        vertical-align: top;\n",
       "    }\n",
       "\n",
       "    .dataframe thead th {\n",
       "        text-align: right;\n",
       "    }\n",
       "</style>\n",
       "<table border=\"1\" class=\"dataframe\">\n",
       "  <thead>\n",
       "    <tr style=\"text-align: right;\">\n",
       "      <th></th>\n",
       "      <th>No. of Missing Values</th>\n",
       "      <th>Percentage</th>\n",
       "    </tr>\n",
       "  </thead>\n",
       "  <tbody>\n",
       "    <tr>\n",
       "      <th>date_announced</th>\n",
       "      <td>0</td>\n",
       "      <td>0.000000</td>\n",
       "    </tr>\n",
       "    <tr>\n",
       "      <th>age_bracket</th>\n",
       "      <td>25544</td>\n",
       "      <td>91.588383</td>\n",
       "    </tr>\n",
       "    <tr>\n",
       "      <th>gender</th>\n",
       "      <td>22577</td>\n",
       "      <td>80.950161</td>\n",
       "    </tr>\n",
       "    <tr>\n",
       "      <th>detected_city</th>\n",
       "      <td>25543</td>\n",
       "      <td>91.584797</td>\n",
       "    </tr>\n",
       "    <tr>\n",
       "      <th>detected_district</th>\n",
       "      <td>7639</td>\n",
       "      <td>27.389745</td>\n",
       "    </tr>\n",
       "    <tr>\n",
       "      <th>state_code</th>\n",
       "      <td>0</td>\n",
       "      <td>0.000000</td>\n",
       "    </tr>\n",
       "    <tr>\n",
       "      <th>nationality</th>\n",
       "      <td>25183</td>\n",
       "      <td>90.294012</td>\n",
       "    </tr>\n",
       "    <tr>\n",
       "      <th>type_of_transmission</th>\n",
       "      <td>24900</td>\n",
       "      <td>89.279312</td>\n",
       "    </tr>\n",
       "    <tr>\n",
       "      <th>contracted_from_which_patient_suspected</th>\n",
       "      <td>26327</td>\n",
       "      <td>94.395841</td>\n",
       "    </tr>\n",
       "    <tr>\n",
       "      <th>status_change_date</th>\n",
       "      <td>110</td>\n",
       "      <td>0.394407</td>\n",
       "    </tr>\n",
       "    <tr>\n",
       "      <th>current_status</th>\n",
       "      <td>0</td>\n",
       "      <td>0.000000</td>\n",
       "    </tr>\n",
       "    <tr>\n",
       "      <th>estimated_onset_date</th>\n",
       "      <td>27890</td>\n",
       "      <td>100.000000</td>\n",
       "    </tr>\n",
       "  </tbody>\n",
       "</table>\n",
       "</div>"
      ],
      "text/plain": [
       "                                         No. of Missing Values  Percentage\n",
       "date_announced                                               0    0.000000\n",
       "age_bracket                                              25544   91.588383\n",
       "gender                                                   22577   80.950161\n",
       "detected_city                                            25543   91.584797\n",
       "detected_district                                         7639   27.389745\n",
       "state_code                                                   0    0.000000\n",
       "nationality                                              25183   90.294012\n",
       "type_of_transmission                                     24900   89.279312\n",
       "contracted_from_which_patient_suspected                  26327   94.395841\n",
       "status_change_date                                         110    0.394407\n",
       "current_status                                               0    0.000000\n",
       "estimated_onset_date                                     27890  100.000000"
      ]
     },
     "execution_count": 636,
     "metadata": {},
     "output_type": "execute_result"
    }
   ],
   "source": [
    "missing_data_info"
   ]
  },
  {
   "cell_type": "code",
   "execution_count": 637,
   "metadata": {},
   "outputs": [],
   "source": [
    "data_with_age = df.drop(['contracted_from_which_patient_suspected','estimated_onset_date'],axis=1)"
   ]
  },
  {
   "cell_type": "code",
   "execution_count": 638,
   "metadata": {},
   "outputs": [],
   "source": [
    "data_with_age.dropna(subset=['age_bracket'],axis=0,inplace=True)"
   ]
  },
  {
   "cell_type": "code",
   "execution_count": 639,
   "metadata": {},
   "outputs": [],
   "source": [
    "#data_with_age.isna().sum()"
   ]
  },
  {
   "cell_type": "code",
   "execution_count": 640,
   "metadata": {},
   "outputs": [],
   "source": [
    "data_with_age.dropna(how='all',axis=0,inplace=True)"
   ]
  },
  {
   "cell_type": "code",
   "execution_count": 641,
   "metadata": {},
   "outputs": [],
   "source": [
    "data_with_age.dropna(thresh=9,axis=0,inplace=True)"
   ]
  },
  {
   "cell_type": "code",
   "execution_count": 642,
   "metadata": {},
   "outputs": [
    {
     "data": {
      "text/plain": [
       "date_announced            0\n",
       "age_bracket               0\n",
       "gender                   38\n",
       "detected_city           318\n",
       "detected_district         0\n",
       "state_code                0\n",
       "nationality              88\n",
       "type_of_transmission     19\n",
       "status_change_date        2\n",
       "current_status            0\n",
       "dtype: int64"
      ]
     },
     "execution_count": 642,
     "metadata": {},
     "output_type": "execute_result"
    }
   ],
   "source": [
    "data_with_age.isna().sum()"
   ]
  },
  {
   "cell_type": "code",
   "execution_count": 643,
   "metadata": {},
   "outputs": [],
   "source": [
    "data_with_age.drop('detected_city',axis=1,inplace=True)"
   ]
  },
  {
   "cell_type": "code",
   "execution_count": 644,
   "metadata": {},
   "outputs": [
    {
     "data": {
      "text/plain": [
       "(964, 9)"
      ]
     },
     "execution_count": 644,
     "metadata": {},
     "output_type": "execute_result"
    }
   ],
   "source": [
    "data_with_age.shape"
   ]
  },
  {
   "cell_type": "code",
   "execution_count": 645,
   "metadata": {},
   "outputs": [
    {
     "data": {
      "text/plain": [
       "[0.0,\n",
       " 0.0,\n",
       " 0.03941908713692946,\n",
       " 0.0,\n",
       " 0.0,\n",
       " 0.0912863070539419,\n",
       " 0.01970954356846473,\n",
       " 0.002074688796680498,\n",
       " 0.0]"
      ]
     },
     "execution_count": 645,
     "metadata": {},
     "output_type": "execute_result"
    }
   ],
   "source": [
    "list(data_with_age.isna().sum()/data_with_age.shape[0])"
   ]
  },
  {
   "cell_type": "code",
   "execution_count": 646,
   "metadata": {},
   "outputs": [],
   "source": [
    "cnt = 9 - data_with_age.apply(lambda x: x.count(),axis =1)"
   ]
  },
  {
   "cell_type": "code",
   "execution_count": 647,
   "metadata": {},
   "outputs": [
    {
     "data": {
      "text/plain": [
       "1"
      ]
     },
     "execution_count": 647,
     "metadata": {},
     "output_type": "execute_result"
    }
   ],
   "source": [
    "cnt.max()"
   ]
  },
  {
   "cell_type": "code",
   "execution_count": 648,
   "metadata": {},
   "outputs": [],
   "source": [
    "data_with_age.drop('nationality',axis=1,inplace=True)"
   ]
  },
  {
   "cell_type": "code",
   "execution_count": 649,
   "metadata": {},
   "outputs": [],
   "source": [
    "data_with_age = data_with_age.reset_index(drop=True)"
   ]
  },
  {
   "cell_type": "markdown",
   "metadata": {},
   "source": [
    "### We see that the maximum number of null values in each row is 1"
   ]
  },
  {
   "cell_type": "code",
   "execution_count": 650,
   "metadata": {},
   "outputs": [
    {
     "data": {
      "text/html": [
       "<div>\n",
       "<style scoped>\n",
       "    .dataframe tbody tr th:only-of-type {\n",
       "        vertical-align: middle;\n",
       "    }\n",
       "\n",
       "    .dataframe tbody tr th {\n",
       "        vertical-align: top;\n",
       "    }\n",
       "\n",
       "    .dataframe thead th {\n",
       "        text-align: right;\n",
       "    }\n",
       "</style>\n",
       "<table border=\"1\" class=\"dataframe\">\n",
       "  <thead>\n",
       "    <tr style=\"text-align: right;\">\n",
       "      <th></th>\n",
       "      <th>date_announced</th>\n",
       "      <th>age_bracket</th>\n",
       "      <th>gender</th>\n",
       "      <th>detected_district</th>\n",
       "      <th>state_code</th>\n",
       "      <th>type_of_transmission</th>\n",
       "      <th>status_change_date</th>\n",
       "      <th>current_status</th>\n",
       "    </tr>\n",
       "  </thead>\n",
       "  <tbody>\n",
       "    <tr>\n",
       "      <th>0</th>\n",
       "      <td>30/01/2020</td>\n",
       "      <td>20</td>\n",
       "      <td>F</td>\n",
       "      <td>Thrissur</td>\n",
       "      <td>KL</td>\n",
       "      <td>Imported</td>\n",
       "      <td>14/02/2020</td>\n",
       "      <td>Recovered</td>\n",
       "    </tr>\n",
       "    <tr>\n",
       "      <th>1</th>\n",
       "      <td>02/03/2020</td>\n",
       "      <td>45</td>\n",
       "      <td>M</td>\n",
       "      <td>East Delhi</td>\n",
       "      <td>DL</td>\n",
       "      <td>Imported</td>\n",
       "      <td>15/03/2020</td>\n",
       "      <td>Recovered</td>\n",
       "    </tr>\n",
       "    <tr>\n",
       "      <th>2</th>\n",
       "      <td>02/03/2020</td>\n",
       "      <td>24</td>\n",
       "      <td>M</td>\n",
       "      <td>Hyderabad</td>\n",
       "      <td>TG</td>\n",
       "      <td>Imported</td>\n",
       "      <td>02/03/2020</td>\n",
       "      <td>Recovered</td>\n",
       "    </tr>\n",
       "    <tr>\n",
       "      <th>3</th>\n",
       "      <td>03/03/2020</td>\n",
       "      <td>69</td>\n",
       "      <td>M</td>\n",
       "      <td>Italians*</td>\n",
       "      <td>RJ</td>\n",
       "      <td>Imported</td>\n",
       "      <td>03/03/2020</td>\n",
       "      <td>Recovered</td>\n",
       "    </tr>\n",
       "    <tr>\n",
       "      <th>4</th>\n",
       "      <td>04/03/2020</td>\n",
       "      <td>55</td>\n",
       "      <td>NaN</td>\n",
       "      <td>Italians*</td>\n",
       "      <td>HR</td>\n",
       "      <td>Imported</td>\n",
       "      <td>29/03/2020</td>\n",
       "      <td>Recovered</td>\n",
       "    </tr>\n",
       "  </tbody>\n",
       "</table>\n",
       "</div>"
      ],
      "text/plain": [
       "  date_announced age_bracket gender detected_district state_code  \\\n",
       "0     30/01/2020          20      F          Thrissur         KL   \n",
       "1     02/03/2020          45      M        East Delhi         DL   \n",
       "2     02/03/2020          24      M         Hyderabad         TG   \n",
       "3     03/03/2020          69      M         Italians*         RJ   \n",
       "4     04/03/2020          55    NaN         Italians*         HR   \n",
       "\n",
       "  type_of_transmission status_change_date current_status  \n",
       "0             Imported         14/02/2020      Recovered  \n",
       "1             Imported         15/03/2020      Recovered  \n",
       "2             Imported         02/03/2020      Recovered  \n",
       "3             Imported         03/03/2020      Recovered  \n",
       "4             Imported         29/03/2020      Recovered  "
      ]
     },
     "execution_count": 650,
     "metadata": {},
     "output_type": "execute_result"
    }
   ],
   "source": [
    "data_with_age.head()"
   ]
  },
  {
   "cell_type": "markdown",
   "metadata": {},
   "source": [
    "## Changing Object to DateTime format"
   ]
  },
  {
   "cell_type": "code",
   "execution_count": 651,
   "metadata": {},
   "outputs": [],
   "source": [
    "data_with_age['date_announced'] = pd.to_datetime(data_with_age['date_announced'])"
   ]
  },
  {
   "cell_type": "code",
   "execution_count": 652,
   "metadata": {},
   "outputs": [],
   "source": [
    "data_with_age['status_change_date'] = pd.to_datetime(data_with_age['status_change_date'])"
   ]
  },
  {
   "cell_type": "code",
   "execution_count": 653,
   "metadata": {},
   "outputs": [],
   "source": [
    "sns.set_style('whitegrid')\n",
    "sns.set(font_scale=2)"
   ]
  },
  {
   "cell_type": "code",
   "execution_count": 654,
   "metadata": {},
   "outputs": [
    {
     "data": {
      "image/png": "[encoded data removed]",
      "text/plain": [
       "<Figure size 720x504 with 1 Axes>"
      ]
     },
     "metadata": {},
     "output_type": "display_data"
    }
   ],
   "source": [
    "plt.figure(figsize=(10,7))\n",
    "sns.countplot('current_status',data=data_with_age)\n",
    "plt.title(\"Status of Patients\")\n",
    "plt.show()"
   ]
  },
  {
   "cell_type": "code",
   "execution_count": 655,
   "metadata": {},
   "outputs": [
    {
     "data": {
      "text/plain": [
       "35    34\n",
       "55    32\n",
       "32    32\n",
       "27    30\n",
       "33    26\n",
       "      ..\n",
       "78     1\n",
       "15     1\n",
       "96     1\n",
       "79     1\n",
       "89     1\n",
       "Name: age_bracket, Length: 86, dtype: int64"
      ]
     },
     "execution_count": 655,
     "metadata": {},
     "output_type": "execute_result"
    }
   ],
   "source": [
    "data_with_age['age_bracket'].value_counts()"
   ]
  },
  {
   "cell_type": "code",
   "execution_count": 656,
   "metadata": {},
   "outputs": [
    {
     "name": "stdout",
     "output_type": "stream",
     "text": [
      "[444, 445, 446, 447, 946]\n"
     ]
    }
   ],
   "source": [
    "errors = []\n",
    "for i in range(data_with_age.shape[0]):\n",
    "    try:\n",
    "        int(data_with_age.loc[i,'age_bracket'])\n",
    "    except Exception:\n",
    "        errors.append(i)\n",
    "print(errors)"
   ]
  },
  {
   "cell_type": "code",
   "execution_count": 657,
   "metadata": {},
   "outputs": [],
   "source": [
    "# data_with_age.loc[946,'age_bracket']"
   ]
  },
  {
   "cell_type": "code",
   "execution_count": 658,
   "metadata": {},
   "outputs": [],
   "source": [
    "for i in errors:\n",
    "    data_with_age.loc[i,'age_bracket'] = np.nan\n",
    "data_with_age.dropna(subset=['age_bracket'],inplace=True)"
   ]
  },
  {
   "cell_type": "code",
   "execution_count": 659,
   "metadata": {},
   "outputs": [],
   "source": [
    "# data_with_age['age_bracket'].isna().sum()"
   ]
  },
  {
   "cell_type": "code",
   "execution_count": 660,
   "metadata": {},
   "outputs": [],
   "source": [
    "data_with_age['age_bracket'] = data_with_age['age_bracket'].astype(int)"
   ]
  },
  {
   "cell_type": "code",
   "execution_count": 661,
   "metadata": {},
   "outputs": [
    {
     "data": {
      "image/png": "[encoded data removed]",
      "text/plain": [
       "<Figure size 720x504 with 1 Axes>"
      ]
     },
     "metadata": {},
     "output_type": "display_data"
    }
   ],
   "source": [
    "plt.figure(figsize=(10,7))\n",
    "sns.distplot(data_with_age['age_bracket'],kde=False,color='red')\n",
    "plt.show()"
   ]
  },
  {
   "cell_type": "code",
   "execution_count": 662,
   "metadata": {},
   "outputs": [],
   "source": [
    "cat = data_with_age.groupby('current_status')\n",
    "rec = cat.get_group('Recovered')\n",
    "dec = cat.get_group('Deceased')\n",
    "hos = cat.get_group('Hospitalized')"
   ]
  },
  {
   "cell_type": "code",
   "execution_count": 663,
   "metadata": {},
   "outputs": [
    {
     "data": {
      "image/png": "[encoded data removed]",
      "text/plain": [
       "<Figure size 864x576 with 1 Axes>"
      ]
     },
     "metadata": {},
     "output_type": "display_data"
    }
   ],
   "source": [
    "plt.figure(figsize=(12,8))\n",
    "sns.distplot(hos['age_bracket'],kde=False,color='green',hist_kws=dict(alpha=0.5),bins=10)\n",
    "sns.distplot(rec['age_bracket'],kde=False,color='blue',hist_kws=dict(alpha=0.7),bins=10)\n",
    "sns.distplot(dec['age_bracket'],kde=False,color='red',hist_kws=dict(alpha=0.7),bins=10)\n",
    "\n",
    "plt.legend(['Hospitalized','Recovered','Deceased'])\n",
    "plt.ylabel('Count')\n",
    "plt.title('Status According to Age')\n",
    "plt.show()"
   ]
  },
  {
   "cell_type": "code",
   "execution_count": 664,
   "metadata": {},
   "outputs": [
    {
     "data": {
      "text/plain": [
       "date_announced           0\n",
       "age_bracket              0\n",
       "gender                  38\n",
       "detected_district        0\n",
       "state_code               0\n",
       "type_of_transmission    18\n",
       "status_change_date       2\n",
       "current_status           0\n",
       "dtype: int64"
      ]
     },
     "execution_count": 664,
     "metadata": {},
     "output_type": "execute_result"
    }
   ],
   "source": [
    "data_with_age.isna().sum()"
   ]
  },
  {
   "cell_type": "code",
   "execution_count": 665,
   "metadata": {},
   "outputs": [],
   "source": [
    "target = data_with_age['current_status']"
   ]
  },
  {
   "cell_type": "code",
   "execution_count": 666,
   "metadata": {},
   "outputs": [],
   "source": [
    "target = pd.factorize(target)"
   ]
  },
  {
   "cell_type": "code",
   "execution_count": 667,
   "metadata": {},
   "outputs": [],
   "source": [
    "# target"
   ]
  },
  {
   "cell_type": "code",
   "execution_count": 668,
   "metadata": {},
   "outputs": [],
   "source": [
    "target_definitions = target[1]"
   ]
  },
  {
   "cell_type": "code",
   "execution_count": 669,
   "metadata": {},
   "outputs": [],
   "source": [
    "target = target[0]"
   ]
  },
  {
   "cell_type": "code",
   "execution_count": 670,
   "metadata": {},
   "outputs": [],
   "source": [
    "data_with_age['Target'] = target"
   ]
  },
  {
   "cell_type": "code",
   "execution_count": 671,
   "metadata": {},
   "outputs": [
    {
     "data": {
      "text/html": [
       "<div>\n",
       "<style scoped>\n",
       "    .dataframe tbody tr th:only-of-type {\n",
       "        vertical-align: middle;\n",
       "    }\n",
       "\n",
       "    .dataframe tbody tr th {\n",
       "        vertical-align: top;\n",
       "    }\n",
       "\n",
       "    .dataframe thead th {\n",
       "        text-align: right;\n",
       "    }\n",
       "</style>\n",
       "<table border=\"1\" class=\"dataframe\">\n",
       "  <thead>\n",
       "    <tr style=\"text-align: right;\">\n",
       "      <th></th>\n",
       "      <th>date_announced</th>\n",
       "      <th>age_bracket</th>\n",
       "      <th>gender</th>\n",
       "      <th>detected_district</th>\n",
       "      <th>state_code</th>\n",
       "      <th>type_of_transmission</th>\n",
       "      <th>status_change_date</th>\n",
       "      <th>current_status</th>\n",
       "      <th>Target</th>\n",
       "    </tr>\n",
       "  </thead>\n",
       "  <tbody>\n",
       "    <tr>\n",
       "      <th>0</th>\n",
       "      <td>2020-01-30</td>\n",
       "      <td>20</td>\n",
       "      <td>F</td>\n",
       "      <td>Thrissur</td>\n",
       "      <td>KL</td>\n",
       "      <td>Imported</td>\n",
       "      <td>2020-02-14</td>\n",
       "      <td>Recovered</td>\n",
       "      <td>0</td>\n",
       "    </tr>\n",
       "    <tr>\n",
       "      <th>1</th>\n",
       "      <td>2020-02-03</td>\n",
       "      <td>45</td>\n",
       "      <td>M</td>\n",
       "      <td>East Delhi</td>\n",
       "      <td>DL</td>\n",
       "      <td>Imported</td>\n",
       "      <td>2020-03-15</td>\n",
       "      <td>Recovered</td>\n",
       "      <td>0</td>\n",
       "    </tr>\n",
       "    <tr>\n",
       "      <th>2</th>\n",
       "      <td>2020-02-03</td>\n",
       "      <td>24</td>\n",
       "      <td>M</td>\n",
       "      <td>Hyderabad</td>\n",
       "      <td>TG</td>\n",
       "      <td>Imported</td>\n",
       "      <td>2020-02-03</td>\n",
       "      <td>Recovered</td>\n",
       "      <td>0</td>\n",
       "    </tr>\n",
       "    <tr>\n",
       "      <th>3</th>\n",
       "      <td>2020-03-03</td>\n",
       "      <td>69</td>\n",
       "      <td>M</td>\n",
       "      <td>Italians*</td>\n",
       "      <td>RJ</td>\n",
       "      <td>Imported</td>\n",
       "      <td>2020-03-03</td>\n",
       "      <td>Recovered</td>\n",
       "      <td>0</td>\n",
       "    </tr>\n",
       "    <tr>\n",
       "      <th>4</th>\n",
       "      <td>2020-04-03</td>\n",
       "      <td>55</td>\n",
       "      <td>NaN</td>\n",
       "      <td>Italians*</td>\n",
       "      <td>HR</td>\n",
       "      <td>Imported</td>\n",
       "      <td>2020-03-29</td>\n",
       "      <td>Recovered</td>\n",
       "      <td>0</td>\n",
       "    </tr>\n",
       "    <tr>\n",
       "      <th>5</th>\n",
       "      <td>2020-04-03</td>\n",
       "      <td>55</td>\n",
       "      <td>NaN</td>\n",
       "      <td>Italians*</td>\n",
       "      <td>HR</td>\n",
       "      <td>Imported</td>\n",
       "      <td>2020-03-29</td>\n",
       "      <td>Recovered</td>\n",
       "      <td>0</td>\n",
       "    </tr>\n",
       "    <tr>\n",
       "      <th>6</th>\n",
       "      <td>2020-04-03</td>\n",
       "      <td>55</td>\n",
       "      <td>NaN</td>\n",
       "      <td>Italians*</td>\n",
       "      <td>HR</td>\n",
       "      <td>Imported</td>\n",
       "      <td>2020-03-29</td>\n",
       "      <td>Recovered</td>\n",
       "      <td>0</td>\n",
       "    </tr>\n",
       "    <tr>\n",
       "      <th>7</th>\n",
       "      <td>2020-04-03</td>\n",
       "      <td>55</td>\n",
       "      <td>NaN</td>\n",
       "      <td>Italians*</td>\n",
       "      <td>HR</td>\n",
       "      <td>Imported</td>\n",
       "      <td>2020-03-29</td>\n",
       "      <td>Recovered</td>\n",
       "      <td>0</td>\n",
       "    </tr>\n",
       "    <tr>\n",
       "      <th>8</th>\n",
       "      <td>2020-04-03</td>\n",
       "      <td>55</td>\n",
       "      <td>NaN</td>\n",
       "      <td>Italians*</td>\n",
       "      <td>HR</td>\n",
       "      <td>Imported</td>\n",
       "      <td>2020-03-29</td>\n",
       "      <td>Recovered</td>\n",
       "      <td>0</td>\n",
       "    </tr>\n",
       "    <tr>\n",
       "      <th>9</th>\n",
       "      <td>2020-04-03</td>\n",
       "      <td>55</td>\n",
       "      <td>NaN</td>\n",
       "      <td>Italians*</td>\n",
       "      <td>HR</td>\n",
       "      <td>Imported</td>\n",
       "      <td>2020-03-29</td>\n",
       "      <td>Recovered</td>\n",
       "      <td>0</td>\n",
       "    </tr>\n",
       "  </tbody>\n",
       "</table>\n",
       "</div>"
      ],
      "text/plain": [
       "  date_announced  age_bracket gender detected_district state_code  \\\n",
       "0     2020-01-30           20      F          Thrissur         KL   \n",
       "1     2020-02-03           45      M        East Delhi         DL   \n",
       "2     2020-02-03           24      M         Hyderabad         TG   \n",
       "3     2020-03-03           69      M         Italians*         RJ   \n",
       "4     2020-04-03           55    NaN         Italians*         HR   \n",
       "5     2020-04-03           55    NaN         Italians*         HR   \n",
       "6     2020-04-03           55    NaN         Italians*         HR   \n",
       "7     2020-04-03           55    NaN         Italians*         HR   \n",
       "8     2020-04-03           55    NaN         Italians*         HR   \n",
       "9     2020-04-03           55    NaN         Italians*         HR   \n",
       "\n",
       "  type_of_transmission status_change_date current_status  Target  \n",
       "0             Imported         2020-02-14      Recovered       0  \n",
       "1             Imported         2020-03-15      Recovered       0  \n",
       "2             Imported         2020-02-03      Recovered       0  \n",
       "3             Imported         2020-03-03      Recovered       0  \n",
       "4             Imported         2020-03-29      Recovered       0  \n",
       "5             Imported         2020-03-29      Recovered       0  \n",
       "6             Imported         2020-03-29      Recovered       0  \n",
       "7             Imported         2020-03-29      Recovered       0  \n",
       "8             Imported         2020-03-29      Recovered       0  \n",
       "9             Imported         2020-03-29      Recovered       0  "
      ]
     },
     "execution_count": 671,
     "metadata": {},
     "output_type": "execute_result"
    }
   ],
   "source": [
    "data_with_age.reset_index()\n",
    "data_with_age.head(10)"
   ]
  },
  {
   "cell_type": "code",
   "execution_count": 672,
   "metadata": {},
   "outputs": [
    {
     "data": {
      "text/plain": [
       "Local        544\n",
       "Imported     357\n",
       "TBD           37\n",
       "Imported       2\n",
       "Unknown        1\n",
       "Name: type_of_transmission, dtype: int64"
      ]
     },
     "execution_count": 672,
     "metadata": {},
     "output_type": "execute_result"
    }
   ],
   "source": [
    "data_with_age.type_of_transmission.value_counts()"
   ]
  },
  {
   "cell_type": "code",
   "execution_count": 673,
   "metadata": {},
   "outputs": [],
   "source": [
    "dummies = pd.get_dummies(data_with_age['type_of_transmission'],drop_first=True,prefix=\"transmission_type_\")"
   ]
  },
  {
   "cell_type": "code",
   "execution_count": 674,
   "metadata": {},
   "outputs": [],
   "source": [
    "dummies1 = pd.get_dummies(data_with_age['gender'],drop_first=True,prefix = 'gender')"
   ]
  },
  {
   "cell_type": "code",
   "execution_count": 675,
   "metadata": {},
   "outputs": [],
   "source": [
    "dummies2 = pd.get_dummies(data_with_age['state_code'],drop_first=True,prefix='state_code_')"
   ]
  },
  {
   "cell_type": "code",
   "execution_count": 676,
   "metadata": {},
   "outputs": [],
   "source": [
    "new_data=pd.concat([data_with_age[['age_bracket']], dummies,dummies1],axis=1)"
   ]
  },
  {
   "cell_type": "code",
   "execution_count": 677,
   "metadata": {},
   "outputs": [
    {
     "data": {
      "text/html": [
       "<div>\n",
       "<style scoped>\n",
       "    .dataframe tbody tr th:only-of-type {\n",
       "        vertical-align: middle;\n",
       "    }\n",
       "\n",
       "    .dataframe tbody tr th {\n",
       "        vertical-align: top;\n",
       "    }\n",
       "\n",
       "    .dataframe thead th {\n",
       "        text-align: right;\n",
       "    }\n",
       "</style>\n",
       "<table border=\"1\" class=\"dataframe\">\n",
       "  <thead>\n",
       "    <tr style=\"text-align: right;\">\n",
       "      <th></th>\n",
       "      <th>age_bracket</th>\n",
       "      <th>transmission_type__Imported</th>\n",
       "      <th>transmission_type__Local</th>\n",
       "      <th>transmission_type__TBD</th>\n",
       "      <th>transmission_type__Unknown</th>\n",
       "      <th>gender_M</th>\n",
       "    </tr>\n",
       "  </thead>\n",
       "  <tbody>\n",
       "    <tr>\n",
       "      <th>0</th>\n",
       "      <td>20</td>\n",
       "      <td>0</td>\n",
       "      <td>0</td>\n",
       "      <td>0</td>\n",
       "      <td>0</td>\n",
       "      <td>0</td>\n",
       "    </tr>\n",
       "    <tr>\n",
       "      <th>1</th>\n",
       "      <td>45</td>\n",
       "      <td>0</td>\n",
       "      <td>0</td>\n",
       "      <td>0</td>\n",
       "      <td>0</td>\n",
       "      <td>1</td>\n",
       "    </tr>\n",
       "    <tr>\n",
       "      <th>2</th>\n",
       "      <td>24</td>\n",
       "      <td>0</td>\n",
       "      <td>0</td>\n",
       "      <td>0</td>\n",
       "      <td>0</td>\n",
       "      <td>1</td>\n",
       "    </tr>\n",
       "    <tr>\n",
       "      <th>3</th>\n",
       "      <td>69</td>\n",
       "      <td>0</td>\n",
       "      <td>0</td>\n",
       "      <td>0</td>\n",
       "      <td>0</td>\n",
       "      <td>1</td>\n",
       "    </tr>\n",
       "    <tr>\n",
       "      <th>4</th>\n",
       "      <td>55</td>\n",
       "      <td>0</td>\n",
       "      <td>0</td>\n",
       "      <td>0</td>\n",
       "      <td>0</td>\n",
       "      <td>0</td>\n",
       "    </tr>\n",
       "  </tbody>\n",
       "</table>\n",
       "</div>"
      ],
      "text/plain": [
       "   age_bracket  transmission_type__Imported   transmission_type__Local  \\\n",
       "0           20                             0                         0   \n",
       "1           45                             0                         0   \n",
       "2           24                             0                         0   \n",
       "3           69                             0                         0   \n",
       "4           55                             0                         0   \n",
       "\n",
       "   transmission_type__TBD  transmission_type__Unknown  gender_M  \n",
       "0                       0                           0         0  \n",
       "1                       0                           0         1  \n",
       "2                       0                           0         1  \n",
       "3                       0                           0         1  \n",
       "4                       0                           0         0  "
      ]
     },
     "execution_count": 677,
     "metadata": {},
     "output_type": "execute_result"
    }
   ],
   "source": [
    "new_data.reset_index()\n",
    "data_with_age.reset_index()\n",
    "new_data.head()"
   ]
  },
  {
   "cell_type": "code",
   "execution_count": 678,
   "metadata": {},
   "outputs": [],
   "source": [
    "# diff = np.subtract(data_with_age['status_change_date'],data_with_age['date_announced'])"
   ]
  },
  {
   "cell_type": "code",
   "execution_count": 679,
   "metadata": {},
   "outputs": [],
   "source": [
    "y = data_with_age['Target']"
   ]
  },
  {
   "cell_type": "code",
   "execution_count": 680,
   "metadata": {},
   "outputs": [],
   "source": [
    "X = new_data"
   ]
  },
  {
   "cell_type": "code",
   "execution_count": 681,
   "metadata": {},
   "outputs": [],
   "source": [
    "X_train,X_test,y_train,y_test = train_test_split(X,y,test_size=0.2,random_state=2)"
   ]
  },
  {
   "cell_type": "markdown",
   "metadata": {},
   "source": [
    "## Random Forest Classifier"
   ]
  },
  {
   "cell_type": "code",
   "execution_count": 682,
   "metadata": {},
   "outputs": [],
   "source": [
    "from sklearn.ensemble import RandomForestClassifier"
   ]
  },
  {
   "cell_type": "code",
   "execution_count": 683,
   "metadata": {},
   "outputs": [],
   "source": [
    "rfc = RandomForestClassifier(n_estimators=300,random_state=2)"
   ]
  },
  {
   "cell_type": "code",
   "execution_count": 684,
   "metadata": {},
   "outputs": [
    {
     "data": {
      "text/plain": [
       "RandomForestClassifier(bootstrap=True, ccp_alpha=0.0, class_weight=None,\n",
       "                       criterion='gini', max_depth=None, max_features='auto',\n",
       "                       max_leaf_nodes=None, max_samples=None,\n",
       "                       min_impurity_decrease=0.0, min_impurity_split=None,\n",
       "                       min_samples_leaf=1, min_samples_split=2,\n",
       "                       min_weight_fraction_leaf=0.0, n_estimators=300,\n",
       "                       n_jobs=None, oob_score=False, random_state=2, verbose=0,\n",
       "                       warm_start=False)"
      ]
     },
     "execution_count": 684,
     "metadata": {},
     "output_type": "execute_result"
    }
   ],
   "source": [
    "rfc.fit(X_train,y_train)"
   ]
  },
  {
   "cell_type": "code",
   "execution_count": 685,
   "metadata": {},
   "outputs": [],
   "source": [
    "y_pred = rfc.predict(X_test)"
   ]
  },
  {
   "cell_type": "code",
   "execution_count": 686,
   "metadata": {},
   "outputs": [
    {
     "name": "stdout",
     "output_type": "stream",
     "text": [
      "Accuracy : 80.73 %\n"
     ]
    }
   ],
   "source": [
    "print(\"Accuracy : {:.2f} %\".format(accuracy_score(y_pred,y_test)*100))"
   ]
  },
  {
   "cell_type": "code",
   "execution_count": 687,
   "metadata": {},
   "outputs": [
    {
     "data": {
      "text/html": [
       "<div>\n",
       "<style scoped>\n",
       "    .dataframe tbody tr th:only-of-type {\n",
       "        vertical-align: middle;\n",
       "    }\n",
       "\n",
       "    .dataframe tbody tr th {\n",
       "        vertical-align: top;\n",
       "    }\n",
       "\n",
       "    .dataframe thead th {\n",
       "        text-align: right;\n",
       "    }\n",
       "</style>\n",
       "<table border=\"1\" class=\"dataframe\">\n",
       "  <thead>\n",
       "    <tr style=\"text-align: right;\">\n",
       "      <th>Predicted</th>\n",
       "      <th>0</th>\n",
       "      <th>1</th>\n",
       "      <th>2</th>\n",
       "    </tr>\n",
       "    <tr>\n",
       "      <th>Actual</th>\n",
       "      <th></th>\n",
       "      <th></th>\n",
       "      <th></th>\n",
       "    </tr>\n",
       "  </thead>\n",
       "  <tbody>\n",
       "    <tr>\n",
       "      <th>0</th>\n",
       "      <td>2</td>\n",
       "      <td>6</td>\n",
       "      <td>0</td>\n",
       "    </tr>\n",
       "    <tr>\n",
       "      <th>1</th>\n",
       "      <td>19</td>\n",
       "      <td>152</td>\n",
       "      <td>7</td>\n",
       "    </tr>\n",
       "    <tr>\n",
       "      <th>2</th>\n",
       "      <td>3</td>\n",
       "      <td>2</td>\n",
       "      <td>1</td>\n",
       "    </tr>\n",
       "  </tbody>\n",
       "</table>\n",
       "</div>"
      ],
      "text/plain": [
       "Predicted   0    1  2\n",
       "Actual               \n",
       "0           2    6  0\n",
       "1          19  152  7\n",
       "2           3    2  1"
      ]
     },
     "execution_count": 687,
     "metadata": {},
     "output_type": "execute_result"
    }
   ],
   "source": [
    "pd.crosstab(y_pred,y_test,rownames=['Actual'],colnames=['Predicted'])"
   ]
  },
  {
   "cell_type": "markdown",
   "metadata": {},
   "source": [
    "## Using Cross Validation"
   ]
  },
  {
   "cell_type": "code",
   "execution_count": 688,
   "metadata": {},
   "outputs": [],
   "source": [
    "from sklearn.model_selection import cross_val_score"
   ]
  },
  {
   "cell_type": "code",
   "execution_count": 689,
   "metadata": {},
   "outputs": [],
   "source": [
    "scores = cross_val_score(rfc,X,y,cv=10)"
   ]
  },
  {
   "cell_type": "code",
   "execution_count": 690,
   "metadata": {},
   "outputs": [
    {
     "name": "stdout",
     "output_type": "stream",
     "text": [
      "Maximum Accuracy = 83.33 %\n"
     ]
    }
   ],
   "source": [
    "print(\"Maximum Accuracy = {:.2f} %\".format(max(scores*100)))"
   ]
  },
  {
   "cell_type": "markdown",
   "metadata": {},
   "source": [
    "### If we include the dummies of states"
   ]
  },
  {
   "cell_type": "code",
   "execution_count": 691,
   "metadata": {},
   "outputs": [],
   "source": [
    "new_data1=pd.concat([data_with_age[['age_bracket']], dummies,dummies1,dummies2],axis=1)"
   ]
  },
  {
   "cell_type": "code",
   "execution_count": 692,
   "metadata": {},
   "outputs": [
    {
     "data": {
      "text/html": [
       "<div>\n",
       "<style scoped>\n",
       "    .dataframe tbody tr th:only-of-type {\n",
       "        vertical-align: middle;\n",
       "    }\n",
       "\n",
       "    .dataframe tbody tr th {\n",
       "        vertical-align: top;\n",
       "    }\n",
       "\n",
       "    .dataframe thead th {\n",
       "        text-align: right;\n",
       "    }\n",
       "</style>\n",
       "<table border=\"1\" class=\"dataframe\">\n",
       "  <thead>\n",
       "    <tr style=\"text-align: right;\">\n",
       "      <th></th>\n",
       "      <th>index</th>\n",
       "      <th>age_bracket</th>\n",
       "      <th>transmission_type__Imported</th>\n",
       "      <th>transmission_type__Local</th>\n",
       "      <th>transmission_type__TBD</th>\n",
       "      <th>transmission_type__Unknown</th>\n",
       "      <th>gender_M</th>\n",
       "      <th>state_code__AP</th>\n",
       "      <th>state_code__BR</th>\n",
       "      <th>state_code__CH</th>\n",
       "      <th>...</th>\n",
       "      <th>state_code__MZ</th>\n",
       "      <th>state_code__OR</th>\n",
       "      <th>state_code__PB</th>\n",
       "      <th>state_code__PY</th>\n",
       "      <th>state_code__RJ</th>\n",
       "      <th>state_code__TG</th>\n",
       "      <th>state_code__TN</th>\n",
       "      <th>state_code__UP</th>\n",
       "      <th>state_code__UT</th>\n",
       "      <th>state_code__WB</th>\n",
       "    </tr>\n",
       "  </thead>\n",
       "  <tbody>\n",
       "    <tr>\n",
       "      <th>0</th>\n",
       "      <td>0</td>\n",
       "      <td>20</td>\n",
       "      <td>0</td>\n",
       "      <td>0</td>\n",
       "      <td>0</td>\n",
       "      <td>0</td>\n",
       "      <td>0</td>\n",
       "      <td>0</td>\n",
       "      <td>0</td>\n",
       "      <td>0</td>\n",
       "      <td>...</td>\n",
       "      <td>0</td>\n",
       "      <td>0</td>\n",
       "      <td>0</td>\n",
       "      <td>0</td>\n",
       "      <td>0</td>\n",
       "      <td>0</td>\n",
       "      <td>0</td>\n",
       "      <td>0</td>\n",
       "      <td>0</td>\n",
       "      <td>0</td>\n",
       "    </tr>\n",
       "    <tr>\n",
       "      <th>1</th>\n",
       "      <td>1</td>\n",
       "      <td>45</td>\n",
       "      <td>0</td>\n",
       "      <td>0</td>\n",
       "      <td>0</td>\n",
       "      <td>0</td>\n",
       "      <td>1</td>\n",
       "      <td>0</td>\n",
       "      <td>0</td>\n",
       "      <td>0</td>\n",
       "      <td>...</td>\n",
       "      <td>0</td>\n",
       "      <td>0</td>\n",
       "      <td>0</td>\n",
       "      <td>0</td>\n",
       "      <td>0</td>\n",
       "      <td>0</td>\n",
       "      <td>0</td>\n",
       "      <td>0</td>\n",
       "      <td>0</td>\n",
       "      <td>0</td>\n",
       "    </tr>\n",
       "    <tr>\n",
       "      <th>2</th>\n",
       "      <td>2</td>\n",
       "      <td>24</td>\n",
       "      <td>0</td>\n",
       "      <td>0</td>\n",
       "      <td>0</td>\n",
       "      <td>0</td>\n",
       "      <td>1</td>\n",
       "      <td>0</td>\n",
       "      <td>0</td>\n",
       "      <td>0</td>\n",
       "      <td>...</td>\n",
       "      <td>0</td>\n",
       "      <td>0</td>\n",
       "      <td>0</td>\n",
       "      <td>0</td>\n",
       "      <td>0</td>\n",
       "      <td>1</td>\n",
       "      <td>0</td>\n",
       "      <td>0</td>\n",
       "      <td>0</td>\n",
       "      <td>0</td>\n",
       "    </tr>\n",
       "    <tr>\n",
       "      <th>3</th>\n",
       "      <td>3</td>\n",
       "      <td>69</td>\n",
       "      <td>0</td>\n",
       "      <td>0</td>\n",
       "      <td>0</td>\n",
       "      <td>0</td>\n",
       "      <td>1</td>\n",
       "      <td>0</td>\n",
       "      <td>0</td>\n",
       "      <td>0</td>\n",
       "      <td>...</td>\n",
       "      <td>0</td>\n",
       "      <td>0</td>\n",
       "      <td>0</td>\n",
       "      <td>0</td>\n",
       "      <td>1</td>\n",
       "      <td>0</td>\n",
       "      <td>0</td>\n",
       "      <td>0</td>\n",
       "      <td>0</td>\n",
       "      <td>0</td>\n",
       "    </tr>\n",
       "    <tr>\n",
       "      <th>4</th>\n",
       "      <td>4</td>\n",
       "      <td>55</td>\n",
       "      <td>0</td>\n",
       "      <td>0</td>\n",
       "      <td>0</td>\n",
       "      <td>0</td>\n",
       "      <td>0</td>\n",
       "      <td>0</td>\n",
       "      <td>0</td>\n",
       "      <td>0</td>\n",
       "      <td>...</td>\n",
       "      <td>0</td>\n",
       "      <td>0</td>\n",
       "      <td>0</td>\n",
       "      <td>0</td>\n",
       "      <td>0</td>\n",
       "      <td>0</td>\n",
       "      <td>0</td>\n",
       "      <td>0</td>\n",
       "      <td>0</td>\n",
       "      <td>0</td>\n",
       "    </tr>\n",
       "    <tr>\n",
       "      <th>...</th>\n",
       "      <td>...</td>\n",
       "      <td>...</td>\n",
       "      <td>...</td>\n",
       "      <td>...</td>\n",
       "      <td>...</td>\n",
       "      <td>...</td>\n",
       "      <td>...</td>\n",
       "      <td>...</td>\n",
       "      <td>...</td>\n",
       "      <td>...</td>\n",
       "      <td>...</td>\n",
       "      <td>...</td>\n",
       "      <td>...</td>\n",
       "      <td>...</td>\n",
       "      <td>...</td>\n",
       "      <td>...</td>\n",
       "      <td>...</td>\n",
       "      <td>...</td>\n",
       "      <td>...</td>\n",
       "      <td>...</td>\n",
       "      <td>...</td>\n",
       "    </tr>\n",
       "    <tr>\n",
       "      <th>954</th>\n",
       "      <td>959</td>\n",
       "      <td>60</td>\n",
       "      <td>0</td>\n",
       "      <td>1</td>\n",
       "      <td>0</td>\n",
       "      <td>0</td>\n",
       "      <td>0</td>\n",
       "      <td>0</td>\n",
       "      <td>0</td>\n",
       "      <td>0</td>\n",
       "      <td>...</td>\n",
       "      <td>0</td>\n",
       "      <td>0</td>\n",
       "      <td>0</td>\n",
       "      <td>0</td>\n",
       "      <td>0</td>\n",
       "      <td>0</td>\n",
       "      <td>0</td>\n",
       "      <td>0</td>\n",
       "      <td>0</td>\n",
       "      <td>0</td>\n",
       "    </tr>\n",
       "    <tr>\n",
       "      <th>955</th>\n",
       "      <td>960</td>\n",
       "      <td>7</td>\n",
       "      <td>0</td>\n",
       "      <td>0</td>\n",
       "      <td>0</td>\n",
       "      <td>0</td>\n",
       "      <td>0</td>\n",
       "      <td>0</td>\n",
       "      <td>0</td>\n",
       "      <td>0</td>\n",
       "      <td>...</td>\n",
       "      <td>0</td>\n",
       "      <td>0</td>\n",
       "      <td>0</td>\n",
       "      <td>0</td>\n",
       "      <td>0</td>\n",
       "      <td>0</td>\n",
       "      <td>0</td>\n",
       "      <td>0</td>\n",
       "      <td>0</td>\n",
       "      <td>0</td>\n",
       "    </tr>\n",
       "    <tr>\n",
       "      <th>956</th>\n",
       "      <td>961</td>\n",
       "      <td>51</td>\n",
       "      <td>0</td>\n",
       "      <td>1</td>\n",
       "      <td>0</td>\n",
       "      <td>0</td>\n",
       "      <td>1</td>\n",
       "      <td>0</td>\n",
       "      <td>0</td>\n",
       "      <td>0</td>\n",
       "      <td>...</td>\n",
       "      <td>0</td>\n",
       "      <td>0</td>\n",
       "      <td>0</td>\n",
       "      <td>0</td>\n",
       "      <td>0</td>\n",
       "      <td>0</td>\n",
       "      <td>0</td>\n",
       "      <td>0</td>\n",
       "      <td>0</td>\n",
       "      <td>0</td>\n",
       "    </tr>\n",
       "    <tr>\n",
       "      <th>957</th>\n",
       "      <td>962</td>\n",
       "      <td>47</td>\n",
       "      <td>0</td>\n",
       "      <td>0</td>\n",
       "      <td>0</td>\n",
       "      <td>0</td>\n",
       "      <td>0</td>\n",
       "      <td>0</td>\n",
       "      <td>0</td>\n",
       "      <td>0</td>\n",
       "      <td>...</td>\n",
       "      <td>0</td>\n",
       "      <td>0</td>\n",
       "      <td>0</td>\n",
       "      <td>0</td>\n",
       "      <td>0</td>\n",
       "      <td>0</td>\n",
       "      <td>0</td>\n",
       "      <td>0</td>\n",
       "      <td>0</td>\n",
       "      <td>0</td>\n",
       "    </tr>\n",
       "    <tr>\n",
       "      <th>958</th>\n",
       "      <td>963</td>\n",
       "      <td>20</td>\n",
       "      <td>0</td>\n",
       "      <td>1</td>\n",
       "      <td>0</td>\n",
       "      <td>0</td>\n",
       "      <td>1</td>\n",
       "      <td>0</td>\n",
       "      <td>0</td>\n",
       "      <td>0</td>\n",
       "      <td>...</td>\n",
       "      <td>0</td>\n",
       "      <td>0</td>\n",
       "      <td>0</td>\n",
       "      <td>0</td>\n",
       "      <td>0</td>\n",
       "      <td>0</td>\n",
       "      <td>0</td>\n",
       "      <td>0</td>\n",
       "      <td>0</td>\n",
       "      <td>0</td>\n",
       "    </tr>\n",
       "  </tbody>\n",
       "</table>\n",
       "<p>959 rows × 35 columns</p>\n",
       "</div>"
      ],
      "text/plain": [
       "     index  age_bracket  transmission_type__Imported   \\\n",
       "0        0           20                             0   \n",
       "1        1           45                             0   \n",
       "2        2           24                             0   \n",
       "3        3           69                             0   \n",
       "4        4           55                             0   \n",
       "..     ...          ...                           ...   \n",
       "954    959           60                             0   \n",
       "955    960            7                             0   \n",
       "956    961           51                             0   \n",
       "957    962           47                             0   \n",
       "958    963           20                             0   \n",
       "\n",
       "     transmission_type__Local  transmission_type__TBD  \\\n",
       "0                           0                       0   \n",
       "1                           0                       0   \n",
       "2                           0                       0   \n",
       "3                           0                       0   \n",
       "4                           0                       0   \n",
       "..                        ...                     ...   \n",
       "954                         1                       0   \n",
       "955                         0                       0   \n",
       "956                         1                       0   \n",
       "957                         0                       0   \n",
       "958                         1                       0   \n",
       "\n",
       "     transmission_type__Unknown  gender_M  state_code__AP  state_code__BR  \\\n",
       "0                             0         0               0               0   \n",
       "1                             0         1               0               0   \n",
       "2                             0         1               0               0   \n",
       "3                             0         1               0               0   \n",
       "4                             0         0               0               0   \n",
       "..                          ...       ...             ...             ...   \n",
       "954                           0         0               0               0   \n",
       "955                           0         0               0               0   \n",
       "956                           0         1               0               0   \n",
       "957                           0         0               0               0   \n",
       "958                           0         1               0               0   \n",
       "\n",
       "     state_code__CH  ...  state_code__MZ  state_code__OR  state_code__PB  \\\n",
       "0                 0  ...               0               0               0   \n",
       "1                 0  ...               0               0               0   \n",
       "2                 0  ...               0               0               0   \n",
       "3                 0  ...               0               0               0   \n",
       "4                 0  ...               0               0               0   \n",
       "..              ...  ...             ...             ...             ...   \n",
       "954               0  ...               0               0               0   \n",
       "955               0  ...               0               0               0   \n",
       "956               0  ...               0               0               0   \n",
       "957               0  ...               0               0               0   \n",
       "958               0  ...               0               0               0   \n",
       "\n",
       "     state_code__PY  state_code__RJ  state_code__TG  state_code__TN  \\\n",
       "0                 0               0               0               0   \n",
       "1                 0               0               0               0   \n",
       "2                 0               0               1               0   \n",
       "3                 0               1               0               0   \n",
       "4                 0               0               0               0   \n",
       "..              ...             ...             ...             ...   \n",
       "954               0               0               0               0   \n",
       "955               0               0               0               0   \n",
       "956               0               0               0               0   \n",
       "957               0               0               0               0   \n",
       "958               0               0               0               0   \n",
       "\n",
       "     state_code__UP  state_code__UT  state_code__WB  \n",
       "0                 0               0               0  \n",
       "1                 0               0               0  \n",
       "2                 0               0               0  \n",
       "3                 0               0               0  \n",
       "4                 0               0               0  \n",
       "..              ...             ...             ...  \n",
       "954               0               0               0  \n",
       "955               0               0               0  \n",
       "956               0               0               0  \n",
       "957               0               0               0  \n",
       "958               0               0               0  \n",
       "\n",
       "[959 rows x 35 columns]"
      ]
     },
     "execution_count": 692,
     "metadata": {},
     "output_type": "execute_result"
    }
   ],
   "source": [
    "new_data1.reset_index()"
   ]
  },
  {
   "cell_type": "code",
   "execution_count": 693,
   "metadata": {},
   "outputs": [],
   "source": [
    "y = data_with_age['Target']\n",
    "X = new_data1"
   ]
  },
  {
   "cell_type": "code",
   "execution_count": 694,
   "metadata": {},
   "outputs": [],
   "source": [
    "X_train1,X_test1,y_train1,y_test1 = train_test_split(X,y,test_size=0.2,random_state=2)"
   ]
  },
  {
   "cell_type": "code",
   "execution_count": 695,
   "metadata": {},
   "outputs": [],
   "source": [
    "rfc1 = RandomForestClassifier(n_estimators=300,random_state=2)"
   ]
  },
  {
   "cell_type": "code",
   "execution_count": 696,
   "metadata": {},
   "outputs": [
    {
     "data": {
      "text/plain": [
       "RandomForestClassifier(bootstrap=True, ccp_alpha=0.0, class_weight=None,\n",
       "                       criterion='gini', max_depth=None, max_features='auto',\n",
       "                       max_leaf_nodes=None, max_samples=None,\n",
       "                       min_impurity_decrease=0.0, min_impurity_split=None,\n",
       "                       min_samples_leaf=1, min_samples_split=2,\n",
       "                       min_weight_fraction_leaf=0.0, n_estimators=300,\n",
       "                       n_jobs=None, oob_score=False, random_state=2, verbose=0,\n",
       "                       warm_start=False)"
      ]
     },
     "execution_count": 696,
     "metadata": {},
     "output_type": "execute_result"
    }
   ],
   "source": [
    "rfc.fit(X_train1,y_train1)"
   ]
  },
  {
   "cell_type": "code",
   "execution_count": 697,
   "metadata": {},
   "outputs": [],
   "source": [
    "y_pred1 = rfc.predict(X_test1)"
   ]
  },
  {
   "cell_type": "code",
   "execution_count": 698,
   "metadata": {},
   "outputs": [
    {
     "name": "stdout",
     "output_type": "stream",
     "text": [
      "Accuracy : 82.81 %\n"
     ]
    }
   ],
   "source": [
    "print(\"Accuracy : {:.2f} %\".format(accuracy_score(y_pred1,y_test1)*100))"
   ]
  },
  {
   "cell_type": "code",
   "execution_count": 699,
   "metadata": {},
   "outputs": [
    {
     "data": {
      "text/html": [
       "<div>\n",
       "<style scoped>\n",
       "    .dataframe tbody tr th:only-of-type {\n",
       "        vertical-align: middle;\n",
       "    }\n",
       "\n",
       "    .dataframe tbody tr th {\n",
       "        vertical-align: top;\n",
       "    }\n",
       "\n",
       "    .dataframe thead th {\n",
       "        text-align: right;\n",
       "    }\n",
       "</style>\n",
       "<table border=\"1\" class=\"dataframe\">\n",
       "  <thead>\n",
       "    <tr style=\"text-align: right;\">\n",
       "      <th>Predicted</th>\n",
       "      <th>0</th>\n",
       "      <th>1</th>\n",
       "      <th>2</th>\n",
       "    </tr>\n",
       "    <tr>\n",
       "      <th>Actual</th>\n",
       "      <th></th>\n",
       "      <th></th>\n",
       "      <th></th>\n",
       "    </tr>\n",
       "  </thead>\n",
       "  <tbody>\n",
       "    <tr>\n",
       "      <th>0</th>\n",
       "      <td>7</td>\n",
       "      <td>8</td>\n",
       "      <td>0</td>\n",
       "    </tr>\n",
       "    <tr>\n",
       "      <th>1</th>\n",
       "      <td>16</td>\n",
       "      <td>151</td>\n",
       "      <td>7</td>\n",
       "    </tr>\n",
       "    <tr>\n",
       "      <th>2</th>\n",
       "      <td>1</td>\n",
       "      <td>1</td>\n",
       "      <td>1</td>\n",
       "    </tr>\n",
       "  </tbody>\n",
       "</table>\n",
       "</div>"
      ],
      "text/plain": [
       "Predicted   0    1  2\n",
       "Actual               \n",
       "0           7    8  0\n",
       "1          16  151  7\n",
       "2           1    1  1"
      ]
     },
     "execution_count": 699,
     "metadata": {},
     "output_type": "execute_result"
    }
   ],
   "source": [
    "pd.crosstab(y_pred1,y_test1,rownames=['Actual'],colnames=['Predicted'])"
   ]
  },
  {
   "cell_type": "markdown",
   "metadata": {},
   "source": [
    "## Using cross validation"
   ]
  },
  {
   "cell_type": "code",
   "execution_count": 700,
   "metadata": {},
   "outputs": [],
   "source": [
    "scores1 = cross_val_score(rfc1,X,y,cv=10)"
   ]
  },
  {
   "cell_type": "code",
   "execution_count": 701,
   "metadata": {},
   "outputs": [
    {
     "name": "stdout",
     "output_type": "stream",
     "text": [
      "Maximum Accuracy = 88.54 %\n"
     ]
    }
   ],
   "source": [
    "print(\"Maximum Accuracy = {:.2f} %\".format(max(scores1*100)))"
   ]
  },
  {
   "cell_type": "markdown",
   "metadata": {},
   "source": [
    "# Decision Tree Classifier"
   ]
  },
  {
   "cell_type": "code",
   "execution_count": 702,
   "metadata": {},
   "outputs": [],
   "source": [
    "from sklearn.tree import DecisionTreeClassifier"
   ]
  },
  {
   "cell_type": "code",
   "execution_count": 703,
   "metadata": {},
   "outputs": [],
   "source": [
    "dtc = DecisionTreeClassifier()"
   ]
  },
  {
   "cell_type": "code",
   "execution_count": 704,
   "metadata": {},
   "outputs": [
    {
     "data": {
      "text/plain": [
       "DecisionTreeClassifier(ccp_alpha=0.0, class_weight=None, criterion='gini',\n",
       "                       max_depth=None, max_features=None, max_leaf_nodes=None,\n",
       "                       min_impurity_decrease=0.0, min_impurity_split=None,\n",
       "                       min_samples_leaf=1, min_samples_split=2,\n",
       "                       min_weight_fraction_leaf=0.0, presort='deprecated',\n",
       "                       random_state=None, splitter='best')"
      ]
     },
     "execution_count": 704,
     "metadata": {},
     "output_type": "execute_result"
    }
   ],
   "source": [
    "dtc.fit(X_train,y_train)"
   ]
  },
  {
   "cell_type": "code",
   "execution_count": 705,
   "metadata": {},
   "outputs": [],
   "source": [
    "y_pred = dtc.predict(X_test)"
   ]
  },
  {
   "cell_type": "code",
   "execution_count": 706,
   "metadata": {},
   "outputs": [
    {
     "name": "stdout",
     "output_type": "stream",
     "text": [
      "Accuracy : 78.12 %\n"
     ]
    }
   ],
   "source": [
    "print(\"Accuracy : {:.2f} %\".format(accuracy_score(y_pred,y_test)*100))"
   ]
  },
  {
   "cell_type": "code",
   "execution_count": 707,
   "metadata": {},
   "outputs": [],
   "source": [
    "scores3 = cross_val_score(dtc,X,y,cv=10)"
   ]
  },
  {
   "cell_type": "code",
   "execution_count": 708,
   "metadata": {},
   "outputs": [
    {
     "name": "stdout",
     "output_type": "stream",
     "text": [
      "Maximum Accuracy = 87.50 %\n"
     ]
    }
   ],
   "source": [
    "print(\"Maximum Accuracy = {:.2f} %\".format(max(scores3*100)))"
   ]
  },
  {
   "cell_type": "markdown",
   "metadata": {},
   "source": [
    "# AdaBoost"
   ]
  },
  {
   "cell_type": "code",
   "execution_count": 709,
   "metadata": {},
   "outputs": [],
   "source": [
    "from sklearn.ensemble import AdaBoostClassifier"
   ]
  },
  {
   "cell_type": "code",
   "execution_count": 710,
   "metadata": {},
   "outputs": [],
   "source": [
    "ad = AdaBoostClassifier(n_estimators=300,random_state=3)"
   ]
  },
  {
   "cell_type": "code",
   "execution_count": 711,
   "metadata": {},
   "outputs": [
    {
     "data": {
      "text/plain": [
       "AdaBoostClassifier(algorithm='SAMME.R', base_estimator=None, learning_rate=1.0,\n",
       "                   n_estimators=300, random_state=3)"
      ]
     },
     "execution_count": 711,
     "metadata": {},
     "output_type": "execute_result"
    }
   ],
   "source": [
    "ad.fit(X_train,y_train)"
   ]
  },
  {
   "cell_type": "code",
   "execution_count": 712,
   "metadata": {},
   "outputs": [],
   "source": [
    "y_pred = ad.predict(X_test)"
   ]
  },
  {
   "cell_type": "code",
   "execution_count": 713,
   "metadata": {},
   "outputs": [
    {
     "name": "stdout",
     "output_type": "stream",
     "text": [
      "Accuracy : 83.85 %\n"
     ]
    }
   ],
   "source": [
    "print(\"Accuracy : {:.2f} %\".format(ad.score(X_test,y_test)*100))"
   ]
  },
  {
   "cell_type": "markdown",
   "metadata": {},
   "source": [
    "# SVM"
   ]
  },
  {
   "cell_type": "code",
   "execution_count": 714,
   "metadata": {},
   "outputs": [],
   "source": [
    "from sklearn.svm import SVC"
   ]
  },
  {
   "cell_type": "code",
   "execution_count": 715,
   "metadata": {},
   "outputs": [],
   "source": [
    "model = SVC(kernel = 'linear')"
   ]
  },
  {
   "cell_type": "code",
   "execution_count": 716,
   "metadata": {},
   "outputs": [
    {
     "data": {
      "text/plain": [
       "SVC(C=1.0, break_ties=False, cache_size=200, class_weight=None, coef0=0.0,\n",
       "    decision_function_shape='ovr', degree=3, gamma='scale', kernel='linear',\n",
       "    max_iter=-1, probability=False, random_state=None, shrinking=True,\n",
       "    tol=0.001, verbose=False)"
      ]
     },
     "execution_count": 716,
     "metadata": {},
     "output_type": "execute_result"
    }
   ],
   "source": [
    "model.fit(X_train,y_train)"
   ]
  },
  {
   "cell_type": "code",
   "execution_count": 718,
   "metadata": {},
   "outputs": [
    {
     "name": "stdout",
     "output_type": "stream",
     "text": [
      "Accuracy : 83.33 %\n"
     ]
    }
   ],
   "source": [
    "print('Accuracy : {:.2f} %'.format(model.score(X_test,y_test)*100))"
   ]
  },
  {
   "cell_type": "markdown",
   "metadata": {},
   "source": [
    "## Using Cross validation on SVM"
   ]
  },
  {
   "cell_type": "code",
   "execution_count": 719,
   "metadata": {},
   "outputs": [],
   "source": [
    "score4 = cross_val_score(model,X,y,cv=10)"
   ]
  },
  {
   "cell_type": "code",
   "execution_count": 720,
   "metadata": {},
   "outputs": [
    {
     "name": "stdout",
     "output_type": "stream",
     "text": [
      "Maximum Accuracy : 86.46 %\n"
     ]
    }
   ],
   "source": [
    "print(\"Maximum Accuracy : {:.2f} %\".format(max(score4)*100))"
   ]
  }
 ],
 "metadata": {
  "kernelspec": {
   "display_name": "Python 3",
   "language": "python",
   "name": "python3"
  },
  "language_info": {
   "codemirror_mode": {
    "name": "ipython",
    "version": 3
   },
   "file_extension": ".py",
   "mimetype": "text/x-python",
   "name": "python",
   "nbconvert_exporter": "python",
   "pygments_lexer": "ipython3",
   "version": "3.7.3"
  }
 },
 "nbformat": 4,
 "nbformat_minor": 4
}
